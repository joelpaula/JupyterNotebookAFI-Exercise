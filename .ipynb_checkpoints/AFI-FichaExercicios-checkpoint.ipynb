{
 "cells": [
  {
   "cell_type": "markdown",
   "metadata": {},
   "source": [
    "# Ficha de exercícios de amostragem e fontes de informação\n",
    "\n",
    ">**Autor** Joel Paula - nº 93393\n",
    ">\n",
    ">**Professora** Paula Vicente\n",
    ">\n",
    ">Amostragem e Fontes de Informação\n",
    ">\n",
    ">LCD-PL | Ano letivo 2019/2020\n",
    ">\n",
    ">31-03-2020"
   ]
  },
  {
   "cell_type": "markdown",
   "metadata": {},
   "source": [
    "O ficheiro <idade.xlsx> contém dados sobre uma população de 6000 indivíduos, concretamente:  \n",
    "  - id: nº identificativo do indivíduo (que por facilidade é uma numeração consecutiva de 1 a 6000)  \n",
    "  - idade: idade do indivíduo (em anos)  \n",
    "  - classe social:1-alta; 2-média; 3-baixa  "
   ]
  },
  {
   "cell_type": "code",
   "execution_count": 55,
   "metadata": {},
   "outputs": [
    {
     "data": {
      "text/markdown": [
       "Uma amostra do conteúdo do ficheiro:"
      ],
      "text/plain": [
       "<IPython.core.display.Markdown object>"
      ]
     },
     "metadata": {},
     "output_type": "display_data"
    },
    {
     "data": {
      "text/html": [
       "<div>\n",
       "<style scoped>\n",
       "    .dataframe tbody tr th:only-of-type {\n",
       "        vertical-align: middle;\n",
       "    }\n",
       "\n",
       "    .dataframe tbody tr th {\n",
       "        vertical-align: top;\n",
       "    }\n",
       "\n",
       "    .dataframe thead th {\n",
       "        text-align: right;\n",
       "    }\n",
       "</style>\n",
       "<table border=\"1\" class=\"dataframe\">\n",
       "  <thead>\n",
       "    <tr style=\"text-align: right;\">\n",
       "      <th>id</th>\n",
       "      <th>idade</th>\n",
       "      <th>classe_social</th>\n",
       "    </tr>\n",
       "  </thead>\n",
       "  <tbody>\n",
       "    <tr>\n",
       "      <td>1</td>\n",
       "      <td>25</td>\n",
       "      <td>2</td>\n",
       "    </tr>\n",
       "    <tr>\n",
       "      <td>2</td>\n",
       "      <td>22</td>\n",
       "      <td>3</td>\n",
       "    </tr>\n",
       "    <tr>\n",
       "      <td>3</td>\n",
       "      <td>21</td>\n",
       "      <td>2</td>\n",
       "    </tr>\n",
       "    <tr>\n",
       "      <td>4</td>\n",
       "      <td>24</td>\n",
       "      <td>2</td>\n",
       "    </tr>\n",
       "    <tr>\n",
       "      <td>...</td>\n",
       "      <td>...</td>\n",
       "      <td>...</td>\n",
       "    </tr>\n",
       "    <tr>\n",
       "      <td>5997</td>\n",
       "      <td>50</td>\n",
       "      <td>2</td>\n",
       "    </tr>\n",
       "    <tr>\n",
       "      <td>5998</td>\n",
       "      <td>39</td>\n",
       "      <td>2</td>\n",
       "    </tr>\n",
       "    <tr>\n",
       "      <td>5999</td>\n",
       "      <td>54</td>\n",
       "      <td>2</td>\n",
       "    </tr>\n",
       "    <tr>\n",
       "      <td>6000</td>\n",
       "      <td>73</td>\n",
       "      <td>2</td>\n",
       "    </tr>\n",
       "  </tbody>\n",
       "</table>\n",
       "<p>6000 rows × 3 columns</p>\n",
       "</div>"
      ],
      "text/plain": [
       "<IPython.core.display.HTML object>"
      ]
     },
     "execution_count": 55,
     "metadata": {},
     "output_type": "execute_result"
    }
   ],
   "source": [
    "import pandas as pd\n",
    "import numpy as np\n",
    "from IPython.display import display, HTML, Markdown\n",
    "\n",
    "# lêr o ficheiro Excel usando o Pandas\n",
    "ids = pd.read_excel(\"Idade.xlsx\")\n",
    "\n",
    "# Mostrar ao utilizador uma amostra\n",
    "display(Markdown(\"Uma amostra do conteúdo do ficheiro:\"))\n",
    "HTML(ids.to_html(notebook=True, index=False, max_rows=8, show_dimensions=True))"
   ]
  },
  {
   "cell_type": "markdown",
   "metadata": {},
   "source": [
    "Relativamente à característica “Idade” dispõe-se dos seguintes resultados:\n",
    "\n",
    "<table style=\"margin-left:10px\">\n",
    "    <tr>\n",
    "        <th rowspan=\"2\">Classe Social</th>\n",
    "        <th colspan=\"3\">Idade</th>\n",
    "    </tr>\n",
    "    <tr>\n",
    "        <th>Média (&mu;i)</th>\n",
    "        <th>Desvio Padrão (&sigma;i)</th>\n",
    "        <th>Ni</th>\n",
    "    </tr>\n",
    "    <tr>\n",
    "        <td>Alta</td>\n",
    "        <td>38,5</td>\n",
    "        <td>13,4</td>\n",
    "        <td>489</td>\n",
    "    </tr>\n",
    "    <tr>\n",
    "        <td>Média</td>\n",
    "        <td>41,4</td>\n",
    "        <td>14,7</td>\n",
    "        <td>4560</td>\n",
    "    </tr>\n",
    "    <tr>\n",
    "        <td>Baixa</td>\n",
    "        <td>49,8</td>\n",
    "        <td>19,0</td>\n",
    "        <td>951</td>\n",
    "    </tr>\n",
    "    <tr>\n",
    "        <td>Total</td>\n",
    "        <td>42,5</td>\n",
    "        <td>15,7</td>\n",
    "        <td>6000</td>\n",
    "    </tr>\n",
    "</table>"
   ]
  },
  {
   "cell_type": "markdown",
   "metadata": {},
   "source": [
    "## 1. Com base no ficheiro idade.xlsx, pretende-se:\n",
    "\n",
    " a) Selecionar uma amostra aleatória simples de n=60 indivíduos e calcular a média da variável Idade na amostra obtida (𝑋̅)  \n",
    " b) Repetir o procedimento descrito em a) K vezes (preferencialmente K>=100)  \n",
    " c) Calcular a média (𝑋̅) e o desvio-padrão (s) das K médias amostrais obtidas em b)  \n",
    " c1) Fazer uma representação gráfica (~~barras~~) das K médias amostrais  "
   ]
  },
  {
   "cell_type": "code",
   "execution_count": 95,
   "metadata": {},
   "outputs": [
    {
     "data": {
      "text/html": [
       "<table><tr><th>Média</th><th>Desvio Padrão</th></tr><tr><td>42.35</td><td>2.16</td></tr></table>"
      ],
      "text/plain": [
       "<IPython.core.display.HTML object>"
      ]
     },
     "metadata": {},
     "output_type": "display_data"
    },
    {
     "data": {
      "image/png": "[encoded data removed]",
      "text/plain": [
       "<Figure size 432x288 with 1 Axes>"
      ]
     },
     "metadata": {
      "needs_background": "light"
     },
     "output_type": "display_data"
    }
   ],
   "source": [
    "import matplotlib.pyplot as plt\n",
    "\n",
    "# função que adiciona as etiquetas de valores ao eixo de x do gráfico\n",
    "def generate_labels(yticks):\n",
    "    labels = []\n",
    "    for x in yticks:\n",
    "        # se o valor é um inteiro mostra etiqueta sem decimais,\n",
    "        # se é um decimal (a média), usa dois decimais e afastado do eixo\n",
    "        if x == x // 1:\n",
    "            labels.append(\"{0:.0f}\".format(x))\n",
    "        else:\n",
    "            labels.append(\"{0:.2f}\".format(x) + \"     \")\n",
    "    return labels\n",
    "\n",
    "# Função que faz o trabalho de calcular médias e desenhar o gráfico\n",
    "def get_avg_std_dev(n, k, idades):\n",
    "    # guardando as médias parciais nesta variável\n",
    "    avgs = np.zeros(k, dtype=float)\n",
    "    \n",
    "    # executar a média k vezes\n",
    "    for i in range(k):\n",
    "        # obter uma amostra de \"n\" tamanho aleatoriamente\n",
    "        ages = idades['idade'].sample(n=n)\n",
    "        # calcular a média e guardar\n",
    "        avgs[i] = ages.mean()\n",
    "        \n",
    "    # desenhar as várias médias no gráfico\n",
    "    # plt.bar(np.arange(k), avgs, width=0.8) # gráfico de barras\n",
    "    plt.plot(np.arange(k), avgs, 'o', color='#1f77b4')\n",
    "    # obter a média das médias\n",
    "    mean = avgs.mean()\n",
    "    # mostrar uma linha horizontal nas médias\n",
    "    plt.axhline(y=mean, linewidth=1, linestyle='--', color='r',)\n",
    "    # calcular as etiquetas do eixo de y a mostrar (entre média mínima e média máxima)\n",
    "    yticks = np.arange(avgs.min() // 1, avgs.max() // 1 + 1, dtype=float)\n",
    "    # acrescentar a etiqueta da média\n",
    "    yticks = np.insert(yticks, int(mean // 1 - avgs.min() // 1), mean)\n",
    "    # colocar as etiquetas no gráfico\n",
    "    plt.yticks(yticks, generate_labels(yticks))\n",
    "    \n",
    "    #devolver média e desvio padrão\n",
    "    return mean, avgs.std()\n",
    "\n",
    "\n",
    "# amostra = 60 indivíduos  ; repetições = 150 (\"ids\" contém a tabela de excel)\n",
    "average, std_deviation = get_avg_std_dev(60, 150, ids)\n",
    "# mostrar o resultado numa tabela de HTML\n",
    "display(HTML(\"<table><tr><th>Média</th><th>Desvio Padrão</th></tr>\" + \n",
    "             f\"<tr><td>{average:.2f}</td><td>{std_deviation:.2f}</td></tr></table>\"))\n"
   ]
  },
  {
   "cell_type": "markdown",
   "metadata": {},
   "source": [
    "## 2. Com base no ficheiro idade.xlsx, pretende-se:\n",
    " d) Selecionar uma amostra aleatória simples de n=200 indivíduos e calcular a média da variável Idade na amostra obtida (𝑋̅)  \n",
    " e) Repetir o procedimento descrito em d) K vezes  \n",
    " f) Calcular a média (𝑋̅) e o desvio-padrão (s) das K médias amostrais obtidas em e)  \n"
   ]
  },
  {
   "cell_type": "code",
   "execution_count": 96,
   "metadata": {},
   "outputs": [
    {
     "data": {
      "text/html": [
       "<table><tr><th>Média</th><th>Desvio Padrão</th></tr><tr><td>42.65</td><td>1.11</td></tr></table>"
      ],
      "text/plain": [
       "<IPython.core.display.HTML object>"
      ]
     },
     "metadata": {},
     "output_type": "display_data"
    },
    {
     "data": {
      "image/png": "[encoded data removed]",
      "text/plain": [
       "<Figure size 432x288 with 1 Axes>"
      ]
     },
     "metadata": {
      "needs_background": "light"
     },
     "output_type": "display_data"
    }
   ],
   "source": [
    "# amostra = 200 indivíduos  ; repetições = 150 (\"ids\" contém a tabela de excel)\n",
    "average, std_deviation = get_avg_std_dev(200, 150, ids)\n",
    "# mostrar o resultado numa tabela de HTML\n",
    "display(HTML(\"<table><tr><th>Média</th><th>Desvio Padrão</th></tr>\" + \n",
    "             f\"<tr><td>{average:.2f}</td><td>{std_deviation:.2f}</td></tr></table>\"))\n"
   ]
  },
  {
   "cell_type": "markdown",
   "metadata": {},
   "source": [
    " g) Discutir em que medida os resultados obtidos em c) e em f) se aproximam dos resultados constantes no quadro acima.  \n",
    " \n",
    " >Os resultados da média das médias não diferem muito entre c) e f). Nos meus testes rondam a mesma ordem de grandeza - numa vizinhança de 0,3.  \n",
    " >\n",
    " >A diferença mais notória e consistente entre as amostras de 60 indivíduos e as de 200 indivíduos é o desvio padrão. A amostra com maior dimensão (maior n) tem um desvio padrão inferior, o que implica uma tendência para convergir numa média muito próxima da média real. Devido à maior dimensão da amostra, temos um menor erro e uma média mais acertada. Aparentemente conseguimos mais representatividade da população.\n",
    " "
   ]
  },
  {
   "cell_type": "markdown",
   "metadata": {},
   "source": [
    "## 4. Com base no ficheiro idade.xlsx, pretende-se:\n",
    " a) Selecionar uma amostra aleatória de n=60 indivíduos estratificada de forma proporcional por classe social.  \n",
    " b) Repetir o procedimento descrito em a) K vezes  \n",
    " c) Calcular a média e o desvio-padrão das médias amostrais obtidas em b)  \n"
   ]
  },
  {
   "cell_type": "code",
   "execution_count": 102,
   "metadata": {},
   "outputs": [
    {
     "data": {
      "text/html": [
       "<table><tr><th>Classe Social</th><th>Média</th><th>Desvio Padrão</th><th>Cor</th><th>dimensão da amostra</th></tr>\n",
       "<tr><td>Classe Alta</td><td>38.41</td><td>6.03</td><td bgcolor=\"#1f77b4\">&nbsp;&nbsp;</td><td>5</td></tr>\n",
       "<tr><td>Classe Média</td><td>41.64</td><td>2.16</td><td bgcolor=\"#ff7f0e\">&nbsp;&nbsp;</td><td>46</td></tr>\n",
       "<tr><td>Classe Baixa</td><td>50.58</td><td>5.70</td><td bgcolor=\"#2ca02c\">&nbsp;&nbsp;</td><td>10</td></tr>\n",
       "</table>"
      ],
      "text/plain": [
       "<IPython.core.display.HTML object>"
      ]
     },
     "metadata": {},
     "output_type": "display_data"
    },
    {
     "data": {
      "image/png": "[encoded data removed]",
      "text/plain": [
       "<Figure size 432x288 with 1 Axes>"
      ]
     },
     "metadata": {
      "needs_background": "light"
     },
     "output_type": "display_data"
    }
   ],
   "source": [
    "# classe que retem cada estrato (classe social)\n",
    "class Stratum:\n",
    "    def __init__(self, stratum_name, population_size, stratum_size, sample_size, k):\n",
    "        self.name = stratum_name\n",
    "        self.population_size = population_size\n",
    "        self.stratum_size = stratum_size\n",
    "        self.sample_size = sample_size\n",
    "        self.averages = np.zeros(k, dtype=float)\n",
    "        self.color = \"#ff0000\"\n",
    "\n",
    "    # Formula da estratificação proporcional\n",
    "    def proportional_stratum_dimension(self):\n",
    "        return (self.stratum_size / self.population_size) * self.sample_size\n",
    "    \n",
    "    def average(self):\n",
    "        return self.averages.mean()\n",
    "    \n",
    "    def std_deviation(self):\n",
    "        return self.averages.std()\n",
    "\n",
    "\n",
    "\n",
    "# Função que faz o trabalho de calcular médias e desenhar o gráfico\n",
    "def get_avg_std_dev_per_class(n, k, idades):\n",
    "    res = []\n",
    "    total_sample_size = len(idades)\n",
    "    \n",
    "    #Cria grupos por classe social\n",
    "    grupos = ids.groupby(\"classe_social\")\n",
    "    \n",
    "    #Iterar grupos de classe social e criar o estrato\n",
    "    for name, group in grupos:\n",
    "        res.append(Stratum(name, total_sample_size, len(group), n, k))\n",
    "    \n",
    "    # executar a média k vezes\n",
    "    for i in range(k):\n",
    "        # obter uma amostra de \"ni\" tamanho aleatoriamente\n",
    "        # para cada grupo e calcular a média e guardar\n",
    "        for grupo in res:\n",
    "            # calcular \"ni\" - dimensão do estrato i na amostra\n",
    "            dim = int(round(grupo.proportional_stratum_dimension()))\n",
    "            grupo.averages[i] = grupos.get_group(grupo.name)['idade'].sample(n=dim).mean()\n",
    "    \n",
    "    for grupo in res:\n",
    "        # desenhar as várias médias no gráfico - classe alta\n",
    "        line, = plt.plot(np.arange(k), grupo.averages, 'o')\n",
    "        grupo.color = line.get_color()\n",
    "        # obter a média das médias e desenhar uma linha horizontal\n",
    "        plt.axhline(y=grupo.average(), linewidth=1, linestyle='--', color = grupo.color)\n",
    "    \n",
    "    return res\n",
    "\n",
    "\n",
    "#computar médias proporcionais por classe social\n",
    "grupos = get_avg_std_dev_per_class(60, 150, ids)\n",
    "# Apresentar tabela de resultados\n",
    "tabela = '<table><tr><th>Classe Social</th><th>Média</th>'\n",
    "tabela += '<th>Desvio Padrão</th><th>Cor</th><th>dimensão da amostra</th></tr>\\n'\n",
    "for grupo in grupos:\n",
    "    classe = \"Classe Alta\" if grupo.name == 1 else \"Classe Média\" if grupo.name == 2 else \"Classe Baixa\"\n",
    "    tabela += f'<tr><td>{classe}</td><td>{grupo.average():.2f}</td><td>{grupo.std_deviation():.2f}</td>'\n",
    "    tabela += f'<td bgcolor=\"{grupo.color}\">&nbsp;&nbsp;</td>'\n",
    "    tabela += f'<td>{int(round(grupo.proportional_stratum_dimension()))}</td></tr>\\n'\n",
    "tabela += '</table>'\n",
    "display(HTML(tabela))\n"
   ]
  },
  {
   "cell_type": "markdown",
   "metadata": {},
   "source": [
    " d) Comparar com os resultados obtidos em 1.\n",
    " >A estratificação proporcional leva a que a amostra para as classes menos representadas na população se reduza a números muitos baixos, o que baixa a representatividade da amostra. Isso manifesta-se no desvio padrão observado para as classes alta e baixa. \n",
    " >\n",
    " >Embora a diferença em relação à média real de idades do estrato seja maior para esses estratos menos representadas na amostra, ainda representa bem quer a diferença entre as médias de idades nos vários estratos, quer a média de cada estrato, tendo em conta a grandeza do valor medido (idade).\n",
    " >\n",
    " >Por outro lado, o facto de se criarem estratos, parece representar melhor a dispersão de idades dos vários estratos na população em geral, o que poderá fornecer dados mais interessantes, dependendo do objetivo do trabalho.\n"
   ]
  }
 ],
 "metadata": {
  "kernelspec": {
   "display_name": "Python 3",
   "language": "python",
   "name": "python3"
  },
  "language_info": {
   "codemirror_mode": {
    "name": "ipython",
    "version": 3
   },
   "file_extension": ".py",
   "mimetype": "text/x-python",
   "name": "python",
   "nbconvert_exporter": "python",
   "pygments_lexer": "ipython3",
   "version": "3.7.3"
  }
 },
 "nbformat": 4,
 "nbformat_minor": 4
}
